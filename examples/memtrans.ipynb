{
 "cells": [
  {
   "cell_type": "code",
   "execution_count": 1,
   "metadata": {},
   "outputs": [],
   "source": [
    "import sys\n",
    "sys.path.append('../')\n",
    "sys.path.append('D:/Data/Opal Kelly/FrontPanelUSB/API/Python/3.7/x64/')\n",
    "from memboard import Board, MultiDeviceScan, Array, PulseSequence"
   ]
  },
  {
   "cell_type": "code",
   "execution_count": null,
   "metadata": {},
   "outputs": [],
   "source": [
    "board = Board()\n",
    "board.open()\n",
    "board.print_info()"
   ]
  },
  {
   "cell_type": "code",
   "execution_count": 2,
   "metadata": {},
   "outputs": [
    {
     "name": "stdout",
     "output_type": "stream",
     "text": [
      "s\tg\td\t\n",
      "1\t29\t57\t\n",
      "2\t30\t58\t\n",
      "3\t31\t59\t\n",
      "4\t32\t60\t\n",
      "4\t33\t61\t\n",
      "4\t34\t62\t\n",
      "4\t35\t63\t\n",
      "5\t32\t60\t\n",
      "5\t33\t61\t\n",
      "5\t34\t62\t\n",
      "5\t35\t63\t\n",
      "6\t32\t60\t\n",
      "6\t33\t61\t\n",
      "6\t34\t62\t\n",
      "6\t35\t63\t\n",
      "7\t32\t60\t\n",
      "7\t33\t61\t\n",
      "7\t34\t62\t\n"
     ]
    }
   ],
   "source": [
    "test = MultiDeviceScan(name='Memtransistor Measurement')\n",
    "test.set_terminal(s='force', s='force', d='force')\n",
    "\n",
    "test.force(s=PulseSequence(\n",
    "    [2, 100, 500],\n",
    "    [0.75, 600, 100],\n",
    "    [2.2, 1100, 500],\n",
    "    [0.75, 1600, 100],\n",
    "    [2.4, 2100, 500],\n",
    "    [0.75, 2600, 100],\n",
    "    [2.6, 3100, 500],\n",
    "    [0.75, 3600, 100])\n",
    ")\n",
    "test.force(g=PulseSequence(\n",
    "    [1, 600, 100],\n",
    "    [1, 1600, 100],\n",
    "    [1, 2600, 100],\n",
    "    [1, 3600, 100])\n",
    ")\n",
    "test.sense([650, 1650, 2650, 3650])\n",
    "\n",
    "test.add_device(\n",
    "    [1, 29, 57],\n",
    "    [2, 30, 58],\n",
    "    [3, 31, 59]\n",
    ")\n",
    "test.add_device(\n",
    "    Array(wordline=[4, 5, 6, 7], bitline=[[32, 33, 34, 35], [60, 61, 62, 63]])\n",
    ")\n",
    "\n",
    "test.print_device()\n",
    "test.save(file='examples/memtrans.csv')"
   ]
  },
  {
   "cell_type": "code",
   "execution_count": 8,
   "metadata": {},
   "outputs": [
    {
     "data": {
      "text/plain": [
       "array([[ 650., 1650., 2650., 3650.]])"
      ]
     },
     "execution_count": 8,
     "metadata": {},
     "output_type": "execute_result"
    }
   ],
   "source": [
    "test.output.add_expr()"
   ]
  },
  {
   "cell_type": "code",
   "execution_count": null,
   "metadata": {},
   "outputs": [],
   "source": [
    "test = MultiDeviceScan(file='examples/memtrans.csv')"
   ]
  },
  {
   "cell_type": "code",
   "execution_count": null,
   "metadata": {},
   "outputs": [],
   "source": [
    "board.execute(test)"
   ]
  }
 ],
 "metadata": {
  "interpreter": {
   "hash": "352a5c8fd3e05a4600898969a8f374453ae9239327f21161075905688c058f68"
  },
  "kernelspec": {
   "display_name": "Python 3.7.11 ('py3.7')",
   "language": "python",
   "name": "python3"
  },
  "language_info": {
   "codemirror_mode": {
    "name": "ipython",
    "version": 3
   },
   "file_extension": ".py",
   "mimetype": "text/x-python",
   "name": "python",
   "nbconvert_exporter": "python",
   "pygments_lexer": "ipython3",
   "version": "3.7.11"
  },
  "orig_nbformat": 4
 },
 "nbformat": 4,
 "nbformat_minor": 2
}
