{
 "cells": [
  {
   "cell_type": "code",
   "execution_count": 4,
   "metadata": {},
   "outputs": [],
   "source": [
    "import matplotlib.pyplot as plt\n",
    "import numpy as np\n",
    "import struct"
   ]
  },
  {
   "cell_type": "code",
   "execution_count": 18,
   "metadata": {},
   "outputs": [],
   "source": [
    "def to_voltage(data_16b):\n",
    "    sign = data_16b & 0x2000 # negative\n",
    "    if sign:\n",
    "        data_16b = -0x3FFF+data_16b-1\n",
    "\n",
    "    voltage = (float(data_16b)/0x2000) * 10\n",
    "    return voltage\n",
    "\n",
    "with open('test.bin', 'rb') as file:\n",
    "    data = file.read()\n",
    "    data_iter = struct.iter_unpack('>IHH', data)\n",
    "    data_proc = np.array(list(data_iter), dtype=float)\n",
    "\n",
    "    data_proc[:,0] *= 1e-6\n",
    "    values = data_proc[:,1:]\n",
    "    values[values>0x2000] -= 0x3fff+1\n",
    "    data_proc[:,1:] = values/0x2000*10"
   ]
  },
  {
   "cell_type": "markdown",
   "metadata": {},
   "source": []
  },
  {
   "cell_type": "code",
   "execution_count": 19,
   "metadata": {},
   "outputs": [
    {
     "data": {
      "text/plain": [
       "1893759"
      ]
     },
     "execution_count": 19,
     "metadata": {},
     "output_type": "execute_result"
    }
   ],
   "source": [
    "len(data_proc)"
   ]
  },
  {
   "cell_type": "code",
   "execution_count": 20,
   "metadata": {},
   "outputs": [],
   "source": [
    "import csv\n",
    "with open('test.csv', 'w', newline='') as file:\n",
    "    writer = csv.writer(file)\n",
    "    writer.writerows(data_proc[0:10000])"
   ]
  },
  {
   "cell_type": "code",
   "execution_count": null,
   "metadata": {},
   "outputs": [],
   "source": []
  }
 ],
 "metadata": {
  "kernelspec": {
   "display_name": "Python 3.7.11 ('py3.7')",
   "language": "python",
   "name": "python3"
  },
  "language_info": {
   "codemirror_mode": {
    "name": "ipython",
    "version": 3
   },
   "file_extension": ".py",
   "mimetype": "text/x-python",
   "name": "python",
   "nbconvert_exporter": "python",
   "pygments_lexer": "ipython3",
   "version": "3.7.11"
  },
  "orig_nbformat": 4,
  "vscode": {
   "interpreter": {
    "hash": "207be30222dfa051f918b94a2a2850f72849899f039368f687cf21878f1b0d98"
   }
  }
 },
 "nbformat": 4,
 "nbformat_minor": 2
}
